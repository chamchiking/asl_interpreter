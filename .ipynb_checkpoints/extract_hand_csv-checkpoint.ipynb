{
 "cells": [
  {
   "cell_type": "code",
   "execution_count": 14,
   "id": "fabb1200",
   "metadata": {},
   "outputs": [
    {
     "name": "stdout",
     "output_type": "stream",
     "text": [
      "Requirement already satisfied: mediapipe-silicon in /Users/mincheol/miniforge3/envs/tensorflow/lib/python3.9/site-packages (0.8.9)\n",
      "Requirement already satisfied: attrs>=19.1.0 in /Users/mincheol/miniforge3/envs/tensorflow/lib/python3.9/site-packages (from mediapipe-silicon) (21.4.0)\n",
      "Requirement already satisfied: matplotlib in /Users/mincheol/miniforge3/envs/tensorflow/lib/python3.9/site-packages (from mediapipe-silicon) (3.5.1)\n",
      "Requirement already satisfied: numpy in /Users/mincheol/miniforge3/envs/tensorflow/lib/python3.9/site-packages (from mediapipe-silicon) (1.21.5)\n",
      "Requirement already satisfied: absl-py in /Users/mincheol/miniforge3/envs/tensorflow/lib/python3.9/site-packages (from mediapipe-silicon) (1.0.0)\n",
      "Requirement already satisfied: protobuf>=3.11.4 in /Users/mincheol/miniforge3/envs/tensorflow/lib/python3.9/site-packages (from mediapipe-silicon) (3.19.4)\n",
      "Requirement already satisfied: opencv-contrib-python in /Users/mincheol/miniforge3/envs/tensorflow/lib/python3.9/site-packages (from mediapipe-silicon) (4.5.5.64)\n",
      "Requirement already satisfied: six in /Users/mincheol/miniforge3/envs/tensorflow/lib/python3.9/site-packages (from absl-py->mediapipe-silicon) (1.16.0)\n",
      "Requirement already satisfied: pillow>=6.2.0 in /Users/mincheol/miniforge3/envs/tensorflow/lib/python3.9/site-packages (from matplotlib->mediapipe-silicon) (9.0.1)\n",
      "Requirement already satisfied: python-dateutil>=2.7 in /Users/mincheol/miniforge3/envs/tensorflow/lib/python3.9/site-packages (from matplotlib->mediapipe-silicon) (2.8.2)\n",
      "Requirement already satisfied: kiwisolver>=1.0.1 in /Users/mincheol/miniforge3/envs/tensorflow/lib/python3.9/site-packages (from matplotlib->mediapipe-silicon) (1.4.2)\n",
      "Requirement already satisfied: fonttools>=4.22.0 in /Users/mincheol/miniforge3/envs/tensorflow/lib/python3.9/site-packages (from matplotlib->mediapipe-silicon) (4.31.1)\n",
      "Requirement already satisfied: cycler>=0.10 in /Users/mincheol/miniforge3/envs/tensorflow/lib/python3.9/site-packages (from matplotlib->mediapipe-silicon) (0.11.0)\n",
      "Requirement already satisfied: packaging>=20.0 in /Users/mincheol/miniforge3/envs/tensorflow/lib/python3.9/site-packages (from matplotlib->mediapipe-silicon) (21.3)\n",
      "Requirement already satisfied: pyparsing>=2.2.1 in /Users/mincheol/miniforge3/envs/tensorflow/lib/python3.9/site-packages (from matplotlib->mediapipe-silicon) (3.0.4)\n",
      "Requirement already satisfied: opencv-python in /Users/mincheol/miniforge3/envs/tensorflow/lib/python3.9/site-packages (4.5.5.64)\n",
      "Requirement already satisfied: numpy>=1.21.2 in /Users/mincheol/miniforge3/envs/tensorflow/lib/python3.9/site-packages (from opencv-python) (1.21.5)\n",
      "Requirement already satisfied: tqdm in /Users/mincheol/miniforge3/envs/tensorflow/lib/python3.9/site-packages (4.64.0)\n",
      "Requirement already satisfied: numpy in /Users/mincheol/miniforge3/envs/tensorflow/lib/python3.9/site-packages (1.21.5)\n"
     ]
    }
   ],
   "source": [
    "!pip install mediapipe-silicon\n",
    "!pip install opencv-python\n",
    "!pip install tqdm\n",
    "!pip install numpy"
   ]
  },
  {
   "cell_type": "code",
   "execution_count": 15,
   "id": "c8486494",
   "metadata": {},
   "outputs": [
    {
     "name": "stdout",
     "output_type": "stream",
     "text": [
      "Python 3.9.12\r\n"
     ]
    }
   ],
   "source": [
    "!python --version"
   ]
  },
  {
   "cell_type": "code",
   "execution_count": 16,
   "id": "1d91d5a1",
   "metadata": {},
   "outputs": [],
   "source": [
    "images_in_folder = './asl_videos/input_images/learn_asl_images'\n",
    "images_out_folder = 'asl_images_out_basic'\n",
    "\n",
    "csv_out_path = 'asl_poses_csv_out_basic.csv'"
   ]
  },
  {
   "cell_type": "code",
   "execution_count": 17,
   "id": "bf3ed7b1",
   "metadata": {},
   "outputs": [],
   "source": [
    "import csv\n",
    "import cv2\n",
    "import numpy as np\n",
    "import os\n",
    "import sys\n",
    "import tqdm\n",
    "import copy\n",
    "import itertools\n",
    "from collections import deque"
   ]
  },
  {
   "cell_type": "code",
   "execution_count": 18,
   "id": "64ec5bd2",
   "metadata": {},
   "outputs": [],
   "source": [
    "history_length = 16\n",
    "point_history = deque(maxlen=history_length)"
   ]
  },
  {
   "cell_type": "code",
   "execution_count": 19,
   "id": "ec2c9481",
   "metadata": {},
   "outputs": [
    {
     "ename": "IndentationError",
     "evalue": "expected an indented block (363276878.py, line 5)",
     "output_type": "error",
     "traceback": [
      "\u001b[0;36m  Input \u001b[0;32mIn [19]\u001b[0;36m\u001b[0m\n\u001b[0;31m    brect = calc_bounding_rect(debug_image, hand_landmarks)\u001b[0m\n\u001b[0m    ^\u001b[0m\n\u001b[0;31mIndentationError\u001b[0m\u001b[0;31m:\u001b[0m expected an indented block\n"
     ]
    }
   ],
   "source": [
    " if results.multi_hand_landmarks is not None:\n",
    "    for hand_landmarks, handedness in zip(results.multi_hand_landmarks,\n",
    "                                            results.multi_handedness):\n",
    "    # Bounding box calculation\n",
    "    brect = calc_bounding_rect(debug_image, hand_landmarks)\n",
    "    # Landmark calculation\n",
    "    landmark_list = calc_landmark_list(debug_image, hand_landmarks)\n",
    "\n",
    "    # Conversion to relative coordinates / normalized coordinates\n",
    "    pre_processed_landmark_list = pre_process_landmark(\n",
    "        landmark_list)\n",
    "    pre_processed_point_history_list = pre_process_point_history(\n",
    "        debug_image, point_history)"
   ]
  },
  {
   "cell_type": "code",
   "execution_count": null,
   "id": "dedcde5d",
   "metadata": {},
   "outputs": [],
   "source": [
    "def calc_bounding_rect(image, landmarks):\n",
    "    image_width, image_height = image.shape[1], image.shape[0]\n",
    "    \n",
    "    landmark_array = np.empty((0,2), int)\n",
    "    \n",
    "    for _, landmark in enumerate(landmarks.landmark):\n",
    "        landmark_x = min(int(landmark.x * image_width), image_width -1)\n",
    "        landmark_y = min(int(landmark.y * image_height), image_height -1)\n",
    "        \n",
    "        landmark_point = [np.array((landmark_x, landmark_y))]\n",
    "        \n",
    "        landmark_array = np.append(landmark_array, landmark_point, axis=0)\n",
    "        \n",
    "    x, y, w, h = cv2.boundingRect(landmark_array)\n",
    "    \n",
    "    return [x,y,x+w, y+h]"
   ]
  },
  {
   "cell_type": "code",
   "execution_count": 20,
   "id": "28641ab3",
   "metadata": {},
   "outputs": [],
   "source": [
    "def calc_landmark_list(image, landmarks):\n",
    "    image_width, image_height = image.shape[1], image.shape[0]\n",
    "    \n",
    "    landmark_point = []\n",
    "    \n",
    "    # Keypoint\n",
    "    for _ , landmark in enumerate(landmarks.landmark):\n",
    "        landmark_x = min(int(landmark.x * image_width), image_width - 1)\n",
    "        landmark_y = min(int(landmark.y * image_height), image_height - 1)\n",
    "        # landmark_z = landmark.z\n",
    "\n",
    "        landmark_point.append([landmark_x, landmark_y])\n",
    "        \n",
    "    return landmark_point"
   ]
  },
  {
   "cell_type": "code",
   "execution_count": 21,
   "id": "1d38862a",
   "metadata": {},
   "outputs": [],
   "source": [
    "def pre_process_landmark(landmark_list):\n",
    "    temp_landmark_list = copy.deepcopy(landmark_list)\n",
    "\n",
    "    # Convert to relative coordinates\n",
    "    base_x, base_y = 0, 0\n",
    "    for index, landmark_point in enumerate(temp_landmark_list):\n",
    "        if index == 0:\n",
    "            base_x, base_y = landmark_point[0], landmark_point[1]\n",
    "\n",
    "        temp_landmark_list[index][0] = temp_landmark_list[index][0] - base_x\n",
    "        temp_landmark_list[index][1] = temp_landmark_list[index][1] - base_y\n",
    "\n",
    "    # Convert to a one-dimensional list\n",
    "    temp_landmark_list = list(\n",
    "        itertools.chain.from_iterable(temp_landmark_list))\n",
    "\n",
    "    # Normalization\n",
    "    max_value = max(list(map(abs, temp_landmark_list)))\n",
    "\n",
    "    def normalize_(n):\n",
    "        return n / max_value\n",
    "\n",
    "    temp_landmark_list = list(map(normalize_, temp_landmark_list))\n",
    "\n",
    "    return temp_landmark_list"
   ]
  },
  {
   "cell_type": "code",
   "execution_count": 22,
   "id": "6906595f",
   "metadata": {},
   "outputs": [],
   "source": [
    "def pre_process_point_history(image, point_history):\n",
    "    image_width, image_height = image.shape[1], image.shape[0]\n",
    "\n",
    "    temp_point_history = copy.deepcopy(point_history)\n",
    "\n",
    "    # Convert to relative coordinates\n",
    "    base_x, base_y = 0, 0\n",
    "    for index, point in enumerate(temp_point_history):\n",
    "        if index == 0:\n",
    "            base_x, base_y = point[0], point[1]\n",
    "\n",
    "        temp_point_history[index][0] = (temp_point_history[index][0] -\n",
    "                                        base_x) / image_width\n",
    "        temp_point_history[index][1] = (temp_point_history[index][1] -\n",
    "                                        base_y) / image_height\n",
    "\n",
    "    # Convert to a one-dimensional list\n",
    "    temp_point_history = list(\n",
    "        itertools.chain.from_iterable(temp_point_history))\n",
    "\n",
    "    return temp_point_history\n"
   ]
  },
  {
   "cell_type": "code",
   "execution_count": 23,
   "id": "a294ec75",
   "metadata": {},
   "outputs": [],
   "source": [
    "def logging_csv(number, landmark_list, point_history_list):\n",
    "    csv_path = 'model/keypoint_classifier/keypoint.csv'\n",
    "        \n",
    "    with open(csv_path, 'a', newline=\"\") as f:\n",
    "        writer = csv.writer(f)\n",
    "        writer.writerow([number, *landmark_list])\n",
    "    return"
   ]
  },
  {
   "cell_type": "code",
   "execution_count": 13,
   "id": "0ffd25a9",
   "metadata": {},
   "outputs": [
    {
     "name": "stderr",
     "output_type": "stream",
     "text": [
      "objc[54665]: Class CaptureDelegate is implemented in both /Users/mincheol/miniforge3/envs/tensorflow/lib/python3.9/site-packages/cv2/cv2.abi3.so (0x10e452490) and /Users/mincheol/miniforge3/envs/tensorflow/lib/python3.9/site-packages/mediapipe/.dylibs/libopencv_videoio.3.4.16.dylib (0x10fe94860). One of the two will be used. Which one is undefined.\n",
      "objc[54665]: Class CVWindow is implemented in both /Users/mincheol/miniforge3/envs/tensorflow/lib/python3.9/site-packages/cv2/cv2.abi3.so (0x10e4524e0) and /Users/mincheol/miniforge3/envs/tensorflow/lib/python3.9/site-packages/mediapipe/.dylibs/libopencv_highgui.3.4.16.dylib (0x10f630a68). One of the two will be used. Which one is undefined.\n",
      "objc[54665]: Class CVView is implemented in both /Users/mincheol/miniforge3/envs/tensorflow/lib/python3.9/site-packages/cv2/cv2.abi3.so (0x10e452508) and /Users/mincheol/miniforge3/envs/tensorflow/lib/python3.9/site-packages/mediapipe/.dylibs/libopencv_highgui.3.4.16.dylib (0x10f630a90). One of the two will be used. Which one is undefined.\n",
      "objc[54665]: Class CVSlider is implemented in both /Users/mincheol/miniforge3/envs/tensorflow/lib/python3.9/site-packages/cv2/cv2.abi3.so (0x10e452530) and /Users/mincheol/miniforge3/envs/tensorflow/lib/python3.9/site-packages/mediapipe/.dylibs/libopencv_highgui.3.4.16.dylib (0x10f630ab8). One of the two will be used. Which one is undefined.\n",
      "Bootstrapping  A\n",
      "  0%|                                                    | 0/96 [00:00<?, ?it/s]INFO: Created TensorFlow Lite XNNPACK delegate for CPU.\n",
      "100%|███████████████████████████████████████████| 96/96 [00:04<00:00, 21.55it/s]\n",
      "Bootstrapping  B\n",
      "100%|█████████████████████████████████████████| 104/104 [00:04<00:00, 21.88it/s]\n",
      "Bootstrapping  C\n",
      "100%|█████████████████████████████████████████| 138/138 [00:06<00:00, 22.01it/s]\n",
      "Bootstrapping  D\n",
      "100%|███████████████████████████████████████████| 50/50 [00:02<00:00, 21.77it/s]\n",
      "Bootstrapping  E\n",
      "100%|███████████████████████████████████████████| 79/79 [00:03<00:00, 22.31it/s]\n",
      "Bootstrapping  F\n",
      "0it [00:00, ?it/s]\n",
      "Bootstrapping  G\n",
      "100%|█████████████████████████████████████████| 163/163 [00:07<00:00, 22.45it/s]\n",
      "Bootstrapping  H\n",
      "100%|█████████████████████████████████████████| 138/138 [00:06<00:00, 22.36it/s]\n",
      "Bootstrapping  I\n",
      "0it [00:00, ?it/s]\n",
      "Bootstrapping  J\n",
      "0it [00:00, ?it/s]\n",
      "Bootstrapping  K\n",
      "0it [00:00, ?it/s]\n",
      "Bootstrapping  L\n",
      "0it [00:00, ?it/s]\n",
      "Bootstrapping  M\n",
      "100%|███████████████████████████████████████████| 31/31 [00:01<00:00, 22.25it/s]\n",
      "Bootstrapping  N\n",
      "100%|███████████████████████████████████████████| 71/71 [00:03<00:00, 22.36it/s]\n",
      "Bootstrapping  O\n",
      "0it [00:00, ?it/s]\n",
      "Bootstrapping  P\n",
      "100%|███████████████████████████████████████████| 62/62 [00:03<00:00, 19.88it/s]\n",
      "Bootstrapping  Q\n",
      "0it [00:00, ?it/s]\n",
      "Bootstrapping  R\n",
      "100%|█████████████████████████████████████████| 134/134 [00:05<00:00, 22.38it/s]\n",
      "Bootstrapping  S\n",
      "0it [00:00, ?it/s]\n",
      "Bootstrapping  T\n",
      "100%|███████████████████████████████████████████| 22/22 [00:00<00:00, 22.26it/s]\n",
      "Bootstrapping  U\n",
      "0it [00:00, ?it/s]\n",
      "Bootstrapping  V\n",
      "0it [00:00, ?it/s]\n",
      "Bootstrapping  W\n",
      "0it [00:00, ?it/s]\n",
      "Bootstrapping  X\n",
      "0it [00:00, ?it/s]\n",
      "Bootstrapping  Y\n",
      "0it [00:00, ?it/s]\n",
      "Bootstrapping  Z\n",
      "0it [00:00, ?it/s]\n"
     ]
    }
   ],
   "source": [
    "from mediapipe.python.solutions import drawing_utils as mp_drawing\n",
    "from mediapipe.python.solutions import drawing_styles as mp_drawing_styles\n",
    "from mediapipe.python.solutions import hands as mp_hand\n",
    "\n",
    "\n",
    "with open(csv_out_path, 'w') as csv_out_file:\n",
    "    csv_out_writer = csv.writer(csv_out_file, delimiter=',', quoting=csv.QUOTE_MINIMAL)\n",
    "\n",
    "    # Folder names are used as pose class names.\n",
    "    hand_class_names = sorted([n for n in os.listdir(images_in_folder) if not n.startswith('.')])\n",
    "\n",
    "    for hand_class_index, hand_class_name in enumerate(hand_class_names):\n",
    "        print('Bootstrapping ', hand_class_name, file=sys.stderr)\n",
    "\n",
    "        if not os.path.exists(os.path.join(images_out_folder, hand_class_name)):\n",
    "            os.makedirs(os.path.join(images_out_folder, hand_class_name))\n",
    "\n",
    "        image_names = sorted([\n",
    "            n for n in os.listdir(os.path.join(images_in_folder, hand_class_name))\n",
    "            if not n.startswith('.')])\n",
    "        for image_name in tqdm.tqdm(image_names, position=0):\n",
    "            # Load image.\n",
    "            input_frame = cv2.imread(os.path.join(images_in_folder, hand_class_name, image_name))\n",
    "            # Flip image\n",
    "            iput_frame = cv2.flip(input_frame, 1)\n",
    "            input_frame = cv2.cvtColor(input_frame, cv2.COLOR_BGR2RGB)\n",
    "\n",
    "            # Initialize fresh pose tracker and run it.\n",
    "            with mp_hand.Hands(\n",
    "                static_image_mode=True,\n",
    "#                 max_num_hands=1,\n",
    "                min_detection_confidence=0.5) as hands:\n",
    "            \n",
    "                result = hands.process(image=input_frame)\n",
    "                hand_landmarks = result.multi_hand_landmarks\n",
    "      \n",
    "            # Save image with pose prediction (if pose was detected).\n",
    "            output_frame = input_frame.copy()\n",
    "            if hand_landmarks is not None:\n",
    "                for hand_landmarks, handedness in zip(result.multi_hand_landmarks, result.multi_handedness):\n",
    "                    # Boudning box calculation\n",
    "                    brect = calc_bounding_rect(output_frame, hand_landmarks)\n",
    "                    \n",
    "                    # Landmark calculation\n",
    "                    landmark_list = calc_landmark_list(output_frame, hand_landmarks)\n",
    "                    \n",
    "                    # Conversion to relative coordinates /normalized coordinates\n",
    "                    pre_processed_landmark_list = pre_process_landmark(landmark_list)\n",
    "                    pre_processed_point_history_list = pre_process_point_history(\n",
    "                        output_frame, point_history)\n",
    "                    \n",
    "                    logging_csv(hand_class_index, pre_processed_landmark_list,\n",
    "                               pre_processed_point_history_list)\n",
    "        "
   ]
  },
  {
   "cell_type": "code",
   "execution_count": null,
   "id": "a9eef8d2",
   "metadata": {},
   "outputs": [],
   "source": []
  }
 ],
 "metadata": {
  "kernelspec": {
   "display_name": "Python 3 (ipykernel)",
   "language": "python",
   "name": "python3"
  },
  "language_info": {
   "codemirror_mode": {
    "name": "ipython",
    "version": 3
   },
   "file_extension": ".py",
   "mimetype": "text/x-python",
   "name": "python",
   "nbconvert_exporter": "python",
   "pygments_lexer": "ipython3",
   "version": "3.9.12"
  }
 },
 "nbformat": 4,
 "nbformat_minor": 5
}
