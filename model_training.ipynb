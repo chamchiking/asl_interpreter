{
 "cells": [
  {
   "cell_type": "code",
   "execution_count": 30,
   "id": "69af69ca",
   "metadata": {},
   "outputs": [],
   "source": [
    "import csv\n",
    "\n",
    "import numpy as np\n",
    "import tensorflow as tf\n",
    "from sklearn.model_selection import train_test_split\n",
    "\n",
    "RANDOM_SEED = 42"
   ]
  },
  {
   "cell_type": "code",
   "execution_count": 31,
   "id": "946a7f7d",
   "metadata": {},
   "outputs": [],
   "source": [
    "dataset = 'model/keypoint_classifier/keypoint.csv'\n",
    "model_save_path = 'model/keypoint_classifier/keypoint_classifier.hdf5'"
   ]
  },
  {
   "cell_type": "code",
   "execution_count": 32,
   "id": "91041a20",
   "metadata": {},
   "outputs": [],
   "source": [
    "NUM_CLASSES = 26"
   ]
  },
  {
   "cell_type": "code",
   "execution_count": 33,
   "id": "00e6fa1b",
   "metadata": {},
   "outputs": [],
   "source": [
    "X_dataset = np.loadtxt(dataset, delimiter=',', dtype='float32', usecols=list(range(1, (21 * 2) + 1)))"
   ]
  },
  {
   "cell_type": "code",
   "execution_count": 34,
   "id": "f153bac8",
   "metadata": {},
   "outputs": [],
   "source": [
    "y_dataset = np.loadtxt(dataset, delimiter=',', dtype='int32', usecols=(0))"
   ]
  },
  {
   "cell_type": "code",
   "execution_count": 35,
   "id": "28cc23c8",
   "metadata": {},
   "outputs": [],
   "source": [
    "X_train, X_test, y_train, y_test = train_test_split(X_dataset, y_dataset, train_size=0.75, random_state=RANDOM_SEED)"
   ]
  },
  {
   "cell_type": "code",
   "execution_count": null,
   "id": "0797db82",
   "metadata": {},
   "outputs": [],
   "source": []
  },
  {
   "cell_type": "code",
   "execution_count": 36,
   "id": "92a7c880",
   "metadata": {},
   "outputs": [],
   "source": [
    "model = tf.keras.models.Sequential([\n",
    "    tf.keras.layers.Input((21 * 2, )),\n",
    "#     tf.keras.layers.Dropout(0.2),\n",
    "    tf.keras.layers.Dense(21*2, activation='relu'),\n",
    "#     tf.keras.layers.Dropout(0.4),\n",
    "    tf.keras.layers.Dense(21*2, activation='relu'),\n",
    "    tf.keras.layers.Dense(NUM_CLASSES, activation='softmax')\n",
    "])"
   ]
  },
  {
   "cell_type": "code",
   "execution_count": 37,
   "id": "f165c238",
   "metadata": {},
   "outputs": [
    {
     "name": "stdout",
     "output_type": "stream",
     "text": [
      "Model: \"sequential_1\"\n",
      "_________________________________________________________________\n",
      " Layer (type)                Output Shape              Param #   \n",
      "=================================================================\n",
      " dense_3 (Dense)             (None, 42)                1806      \n",
      "                                                                 \n",
      " dense_4 (Dense)             (None, 42)                1806      \n",
      "                                                                 \n",
      " dense_5 (Dense)             (None, 26)                1118      \n",
      "                                                                 \n",
      "=================================================================\n",
      "Total params: 4,730\n",
      "Trainable params: 4,730\n",
      "Non-trainable params: 0\n",
      "_________________________________________________________________\n"
     ]
    }
   ],
   "source": [
    "model.summary()"
   ]
  },
  {
   "cell_type": "code",
   "execution_count": 38,
   "id": "2cdf47ee",
   "metadata": {},
   "outputs": [],
   "source": [
    "# model checkpoint callback\n",
    "cp_callback = tf.keras.callbacks.ModelCheckpoint(\n",
    "    model_save_path, verbose=1, save_weights_only=False)\n",
    "# callback for early stopping\n",
    "es_callback = tf.keras.callbacks.EarlyStopping(patience=20, verbose=1)"
   ]
  },
  {
   "cell_type": "code",
   "execution_count": 39,
   "id": "ef0a8aaf",
   "metadata": {},
   "outputs": [],
   "source": [
    "model.compile(\n",
    "    optimizer='adam',\n",
    "    loss='sparse_categorical_crossentropy',\n",
    "    metrics=['accuracy']\n",
    ")"
   ]
  },
  {
   "cell_type": "code",
   "execution_count": 40,
   "id": "e48a0592",
   "metadata": {},
   "outputs": [
    {
     "name": "stdout",
     "output_type": "stream",
     "text": [
      "Epoch 1/1000\n",
      " 22/367 [>.............................] - ETA: 1s - loss: 3.1610 - accuracy: 0.0753"
     ]
    },
    {
     "name": "stderr",
     "output_type": "stream",
     "text": [
      "2022-06-04 23:31:12.709297: I tensorflow/core/grappler/optimizers/custom_graph_optimizer_registry.cc:113] Plugin optimizer for device_type GPU is enabled.\n"
     ]
    },
    {
     "name": "stdout",
     "output_type": "stream",
     "text": [
      "361/367 [============================>.] - ETA: 0s - loss: 1.5214 - accuracy: 0.6265"
     ]
    },
    {
     "name": "stderr",
     "output_type": "stream",
     "text": [
      "2022-06-04 23:31:14.592386: I tensorflow/core/grappler/optimizers/custom_graph_optimizer_registry.cc:113] Plugin optimizer for device_type GPU is enabled.\n"
     ]
    },
    {
     "name": "stdout",
     "output_type": "stream",
     "text": [
      "\n",
      "Epoch 1: saving model to model/keypoint_classifier/keypoint_classifier.hdf5\n",
      "367/367 [==============================] - 2s 6ms/step - loss: 1.5081 - accuracy: 0.6304 - val_loss: 0.5991 - val_accuracy: 0.8828\n",
      "Epoch 2/1000\n",
      "357/367 [============================>.] - ETA: 0s - loss: 0.4524 - accuracy: 0.9012\n",
      "Epoch 2: saving model to model/keypoint_classifier/keypoint_classifier.hdf5\n",
      "367/367 [==============================] - 2s 6ms/step - loss: 0.4487 - accuracy: 0.9023 - val_loss: 0.3554 - val_accuracy: 0.9220\n",
      "Epoch 3/1000\n",
      "360/367 [============================>.] - ETA: 0s - loss: 0.3019 - accuracy: 0.9296\n",
      "Epoch 3: saving model to model/keypoint_classifier/keypoint_classifier.hdf5\n",
      "367/367 [==============================] - 2s 6ms/step - loss: 0.3018 - accuracy: 0.9299 - val_loss: 0.2702 - val_accuracy: 0.9387\n",
      "Epoch 4/1000\n",
      "360/367 [============================>.] - ETA: 0s - loss: 0.2377 - accuracy: 0.9487\n",
      "Epoch 4: saving model to model/keypoint_classifier/keypoint_classifier.hdf5\n",
      "367/367 [==============================] - 2s 6ms/step - loss: 0.2373 - accuracy: 0.9487 - val_loss: 0.2237 - val_accuracy: 0.9489\n",
      "Epoch 5/1000\n",
      "362/367 [============================>.] - ETA: 0s - loss: 0.2013 - accuracy: 0.9555\n",
      "Epoch 5: saving model to model/keypoint_classifier/keypoint_classifier.hdf5\n",
      "367/367 [==============================] - 2s 6ms/step - loss: 0.2009 - accuracy: 0.9556 - val_loss: 0.1926 - val_accuracy: 0.9567\n",
      "Epoch 6/1000\n",
      "366/367 [============================>.] - ETA: 0s - loss: 0.1760 - accuracy: 0.9609\n",
      "Epoch 6: saving model to model/keypoint_classifier/keypoint_classifier.hdf5\n",
      "367/367 [==============================] - 2s 6ms/step - loss: 0.1760 - accuracy: 0.9609 - val_loss: 0.1763 - val_accuracy: 0.9589\n",
      "Epoch 7/1000\n",
      "365/367 [============================>.] - ETA: 0s - loss: 0.1597 - accuracy: 0.9632\n",
      "Epoch 7: saving model to model/keypoint_classifier/keypoint_classifier.hdf5\n",
      "367/367 [==============================] - 2s 6ms/step - loss: 0.1597 - accuracy: 0.9632 - val_loss: 0.1590 - val_accuracy: 0.9628\n",
      "Epoch 8/1000\n",
      "358/367 [============================>.] - ETA: 0s - loss: 0.1460 - accuracy: 0.9670\n",
      "Epoch 8: saving model to model/keypoint_classifier/keypoint_classifier.hdf5\n",
      "367/367 [==============================] - 2s 6ms/step - loss: 0.1455 - accuracy: 0.9669 - val_loss: 0.1475 - val_accuracy: 0.9651\n",
      "Epoch 9/1000\n",
      "358/367 [============================>.] - ETA: 0s - loss: 0.1355 - accuracy: 0.9689\n",
      "Epoch 9: saving model to model/keypoint_classifier/keypoint_classifier.hdf5\n",
      "367/367 [==============================] - 2s 6ms/step - loss: 0.1352 - accuracy: 0.9690 - val_loss: 0.1395 - val_accuracy: 0.9675\n",
      "Epoch 10/1000\n",
      "358/367 [============================>.] - ETA: 0s - loss: 0.1269 - accuracy: 0.9698\n",
      "Epoch 10: saving model to model/keypoint_classifier/keypoint_classifier.hdf5\n",
      "367/367 [==============================] - 2s 6ms/step - loss: 0.1267 - accuracy: 0.9699 - val_loss: 0.1326 - val_accuracy: 0.9679\n",
      "Epoch 11/1000\n",
      "367/367 [==============================] - ETA: 0s - loss: 0.1193 - accuracy: 0.9713\n",
      "Epoch 11: saving model to model/keypoint_classifier/keypoint_classifier.hdf5\n",
      "367/367 [==============================] - 2s 6ms/step - loss: 0.1193 - accuracy: 0.9713 - val_loss: 0.1260 - val_accuracy: 0.9696\n",
      "Epoch 12/1000\n",
      "360/367 [============================>.] - ETA: 0s - loss: 0.1123 - accuracy: 0.9726\n",
      "Epoch 12: saving model to model/keypoint_classifier/keypoint_classifier.hdf5\n",
      "367/367 [==============================] - 2s 6ms/step - loss: 0.1122 - accuracy: 0.9726 - val_loss: 0.1221 - val_accuracy: 0.9699\n",
      "Epoch 13/1000\n",
      "357/367 [============================>.] - ETA: 0s - loss: 0.1080 - accuracy: 0.9740\n",
      "Epoch 13: saving model to model/keypoint_classifier/keypoint_classifier.hdf5\n",
      "367/367 [==============================] - 2s 6ms/step - loss: 0.1073 - accuracy: 0.9741 - val_loss: 0.1175 - val_accuracy: 0.9707\n",
      "Epoch 14/1000\n",
      "359/367 [============================>.] - ETA: 0s - loss: 0.1027 - accuracy: 0.9751\n",
      "Epoch 14: saving model to model/keypoint_classifier/keypoint_classifier.hdf5\n",
      "367/367 [==============================] - 2s 6ms/step - loss: 0.1030 - accuracy: 0.9751 - val_loss: 0.1121 - val_accuracy: 0.9728\n",
      "Epoch 15/1000\n",
      "360/367 [============================>.] - ETA: 0s - loss: 0.0986 - accuracy: 0.9760\n",
      "Epoch 15: saving model to model/keypoint_classifier/keypoint_classifier.hdf5\n",
      "367/367 [==============================] - 2s 6ms/step - loss: 0.0985 - accuracy: 0.9759 - val_loss: 0.1092 - val_accuracy: 0.9744\n",
      "Epoch 16/1000\n",
      "359/367 [============================>.] - ETA: 0s - loss: 0.0945 - accuracy: 0.9770\n",
      "Epoch 16: saving model to model/keypoint_classifier/keypoint_classifier.hdf5\n",
      "367/367 [==============================] - 2s 6ms/step - loss: 0.0945 - accuracy: 0.9770 - val_loss: 0.1063 - val_accuracy: 0.9738\n",
      "Epoch 17/1000\n",
      "360/367 [============================>.] - ETA: 0s - loss: 0.0916 - accuracy: 0.9776\n",
      "Epoch 17: saving model to model/keypoint_classifier/keypoint_classifier.hdf5\n",
      "367/367 [==============================] - 2s 6ms/step - loss: 0.0918 - accuracy: 0.9776 - val_loss: 0.1038 - val_accuracy: 0.9739\n",
      "Epoch 18/1000\n",
      "358/367 [============================>.] - ETA: 0s - loss: 0.0887 - accuracy: 0.9779\n",
      "Epoch 18: saving model to model/keypoint_classifier/keypoint_classifier.hdf5\n",
      "367/367 [==============================] - 2s 6ms/step - loss: 0.0885 - accuracy: 0.9781 - val_loss: 0.1049 - val_accuracy: 0.9726\n",
      "Epoch 19/1000\n",
      "357/367 [============================>.] - ETA: 0s - loss: 0.0845 - accuracy: 0.9793\n",
      "Epoch 19: saving model to model/keypoint_classifier/keypoint_classifier.hdf5\n",
      "367/367 [==============================] - 2s 6ms/step - loss: 0.0850 - accuracy: 0.9793 - val_loss: 0.0969 - val_accuracy: 0.9772\n",
      "Epoch 20/1000\n",
      "360/367 [============================>.] - ETA: 0s - loss: 0.0831 - accuracy: 0.9792\n",
      "Epoch 20: saving model to model/keypoint_classifier/keypoint_classifier.hdf5\n",
      "367/367 [==============================] - 2s 6ms/step - loss: 0.0832 - accuracy: 0.9791 - val_loss: 0.0986 - val_accuracy: 0.9749\n",
      "Epoch 21/1000\n",
      "360/367 [============================>.] - ETA: 0s - loss: 0.0794 - accuracy: 0.9804\n",
      "Epoch 21: saving model to model/keypoint_classifier/keypoint_classifier.hdf5\n",
      "367/367 [==============================] - 2s 6ms/step - loss: 0.0795 - accuracy: 0.9803 - val_loss: 0.0926 - val_accuracy: 0.9770\n",
      "Epoch 22/1000\n",
      "362/367 [============================>.] - ETA: 0s - loss: 0.0771 - accuracy: 0.9806\n",
      "Epoch 22: saving model to model/keypoint_classifier/keypoint_classifier.hdf5\n",
      "367/367 [==============================] - 2s 6ms/step - loss: 0.0769 - accuracy: 0.9805 - val_loss: 0.0904 - val_accuracy: 0.9778\n",
      "Epoch 23/1000\n",
      "361/367 [============================>.] - ETA: 0s - loss: 0.0751 - accuracy: 0.9816\n",
      "Epoch 23: saving model to model/keypoint_classifier/keypoint_classifier.hdf5\n",
      "367/367 [==============================] - 2s 6ms/step - loss: 0.0752 - accuracy: 0.9816 - val_loss: 0.0890 - val_accuracy: 0.9782\n",
      "Epoch 24/1000\n",
      "359/367 [============================>.] - ETA: 0s - loss: 0.0732 - accuracy: 0.9814\n",
      "Epoch 24: saving model to model/keypoint_classifier/keypoint_classifier.hdf5\n",
      "367/367 [==============================] - 2s 6ms/step - loss: 0.0728 - accuracy: 0.9815 - val_loss: 0.0883 - val_accuracy: 0.9784\n",
      "Epoch 25/1000\n",
      "360/367 [============================>.] - ETA: 0s - loss: 0.0702 - accuracy: 0.9824\n",
      "Epoch 25: saving model to model/keypoint_classifier/keypoint_classifier.hdf5\n",
      "367/367 [==============================] - 2s 6ms/step - loss: 0.0703 - accuracy: 0.9824 - val_loss: 0.0870 - val_accuracy: 0.9790\n",
      "Epoch 26/1000\n",
      "362/367 [============================>.] - ETA: 0s - loss: 0.0687 - accuracy: 0.9827\n",
      "Epoch 26: saving model to model/keypoint_classifier/keypoint_classifier.hdf5\n",
      "367/367 [==============================] - 2s 6ms/step - loss: 0.0685 - accuracy: 0.9827 - val_loss: 0.0839 - val_accuracy: 0.9804\n",
      "Epoch 27/1000\n",
      "357/367 [============================>.] - ETA: 0s - loss: 0.0668 - accuracy: 0.9832\n",
      "Epoch 27: saving model to model/keypoint_classifier/keypoint_classifier.hdf5\n",
      "367/367 [==============================] - 2s 6ms/step - loss: 0.0663 - accuracy: 0.9832 - val_loss: 0.0842 - val_accuracy: 0.9797\n",
      "Epoch 28/1000\n"
     ]
    },
    {
     "name": "stdout",
     "output_type": "stream",
     "text": [
      "367/367 [==============================] - ETA: 0s - loss: 0.0650 - accuracy: 0.9834\n",
      "Epoch 28: saving model to model/keypoint_classifier/keypoint_classifier.hdf5\n",
      "367/367 [==============================] - 2s 6ms/step - loss: 0.0650 - accuracy: 0.9834 - val_loss: 0.0833 - val_accuracy: 0.9797\n",
      "Epoch 29/1000\n",
      "358/367 [============================>.] - ETA: 0s - loss: 0.0637 - accuracy: 0.9837\n",
      "Epoch 29: saving model to model/keypoint_classifier/keypoint_classifier.hdf5\n",
      "367/367 [==============================] - 2s 6ms/step - loss: 0.0632 - accuracy: 0.9839 - val_loss: 0.0803 - val_accuracy: 0.9801\n",
      "Epoch 30/1000\n",
      "363/367 [============================>.] - ETA: 0s - loss: 0.0615 - accuracy: 0.9843\n",
      "Epoch 30: saving model to model/keypoint_classifier/keypoint_classifier.hdf5\n",
      "367/367 [==============================] - 2s 6ms/step - loss: 0.0615 - accuracy: 0.9843 - val_loss: 0.0796 - val_accuracy: 0.9813\n",
      "Epoch 31/1000\n",
      "359/367 [============================>.] - ETA: 0s - loss: 0.0609 - accuracy: 0.9843\n",
      "Epoch 31: saving model to model/keypoint_classifier/keypoint_classifier.hdf5\n",
      "367/367 [==============================] - 2s 6ms/step - loss: 0.0609 - accuracy: 0.9843 - val_loss: 0.0780 - val_accuracy: 0.9809\n",
      "Epoch 32/1000\n",
      "361/367 [============================>.] - ETA: 0s - loss: 0.0584 - accuracy: 0.9857\n",
      "Epoch 32: saving model to model/keypoint_classifier/keypoint_classifier.hdf5\n",
      "367/367 [==============================] - 2s 6ms/step - loss: 0.0583 - accuracy: 0.9857 - val_loss: 0.0786 - val_accuracy: 0.9815\n",
      "Epoch 33/1000\n",
      "358/367 [============================>.] - ETA: 0s - loss: 0.0570 - accuracy: 0.9855\n",
      "Epoch 33: saving model to model/keypoint_classifier/keypoint_classifier.hdf5\n",
      "367/367 [==============================] - 2s 6ms/step - loss: 0.0573 - accuracy: 0.9853 - val_loss: 0.0807 - val_accuracy: 0.9814\n",
      "Epoch 34/1000\n",
      "362/367 [============================>.] - ETA: 0s - loss: 0.0565 - accuracy: 0.9858\n",
      "Epoch 34: saving model to model/keypoint_classifier/keypoint_classifier.hdf5\n",
      "367/367 [==============================] - 2s 6ms/step - loss: 0.0562 - accuracy: 0.9859 - val_loss: 0.0791 - val_accuracy: 0.9811\n",
      "Epoch 35/1000\n",
      "362/367 [============================>.] - ETA: 0s - loss: 0.0538 - accuracy: 0.9862\n",
      "Epoch 35: saving model to model/keypoint_classifier/keypoint_classifier.hdf5\n",
      "367/367 [==============================] - 2s 6ms/step - loss: 0.0543 - accuracy: 0.9862 - val_loss: 0.0735 - val_accuracy: 0.9821\n",
      "Epoch 36/1000\n",
      "361/367 [============================>.] - ETA: 0s - loss: 0.0541 - accuracy: 0.9862\n",
      "Epoch 36: saving model to model/keypoint_classifier/keypoint_classifier.hdf5\n",
      "367/367 [==============================] - 2s 6ms/step - loss: 0.0537 - accuracy: 0.9863 - val_loss: 0.0777 - val_accuracy: 0.9815\n",
      "Epoch 37/1000\n",
      "360/367 [============================>.] - ETA: 0s - loss: 0.0519 - accuracy: 0.9867\n",
      "Epoch 37: saving model to model/keypoint_classifier/keypoint_classifier.hdf5\n",
      "367/367 [==============================] - 2s 6ms/step - loss: 0.0526 - accuracy: 0.9865 - val_loss: 0.0723 - val_accuracy: 0.9827\n",
      "Epoch 38/1000\n",
      "358/367 [============================>.] - ETA: 0s - loss: 0.0506 - accuracy: 0.9870\n",
      "Epoch 38: saving model to model/keypoint_classifier/keypoint_classifier.hdf5\n",
      "367/367 [==============================] - 2s 6ms/step - loss: 0.0513 - accuracy: 0.9868 - val_loss: 0.0732 - val_accuracy: 0.9822\n",
      "Epoch 39/1000\n",
      "360/367 [============================>.] - ETA: 0s - loss: 0.0507 - accuracy: 0.9868\n",
      "Epoch 39: saving model to model/keypoint_classifier/keypoint_classifier.hdf5\n",
      "367/367 [==============================] - 2s 6ms/step - loss: 0.0504 - accuracy: 0.9869 - val_loss: 0.0757 - val_accuracy: 0.9828\n",
      "Epoch 40/1000\n",
      "362/367 [============================>.] - ETA: 0s - loss: 0.0494 - accuracy: 0.9875\n",
      "Epoch 40: saving model to model/keypoint_classifier/keypoint_classifier.hdf5\n",
      "367/367 [==============================] - 2s 6ms/step - loss: 0.0495 - accuracy: 0.9874 - val_loss: 0.0702 - val_accuracy: 0.9832\n",
      "Epoch 41/1000\n",
      "358/367 [============================>.] - ETA: 0s - loss: 0.0486 - accuracy: 0.9873\n",
      "Epoch 41: saving model to model/keypoint_classifier/keypoint_classifier.hdf5\n",
      "367/367 [==============================] - 2s 6ms/step - loss: 0.0489 - accuracy: 0.9873 - val_loss: 0.0727 - val_accuracy: 0.9830\n",
      "Epoch 42/1000\n",
      "357/367 [============================>.] - ETA: 0s - loss: 0.0485 - accuracy: 0.9871\n",
      "Epoch 42: saving model to model/keypoint_classifier/keypoint_classifier.hdf5\n",
      "367/367 [==============================] - 2s 6ms/step - loss: 0.0483 - accuracy: 0.9871 - val_loss: 0.0697 - val_accuracy: 0.9826\n",
      "Epoch 43/1000\n",
      "361/367 [============================>.] - ETA: 0s - loss: 0.0468 - accuracy: 0.9876\n",
      "Epoch 43: saving model to model/keypoint_classifier/keypoint_classifier.hdf5\n",
      "367/367 [==============================] - 2s 6ms/step - loss: 0.0467 - accuracy: 0.9876 - val_loss: 0.0703 - val_accuracy: 0.9832\n",
      "Epoch 44/1000\n",
      "360/367 [============================>.] - ETA: 0s - loss: 0.0458 - accuracy: 0.9880\n",
      "Epoch 44: saving model to model/keypoint_classifier/keypoint_classifier.hdf5\n",
      "367/367 [==============================] - 2s 6ms/step - loss: 0.0456 - accuracy: 0.9880 - val_loss: 0.0678 - val_accuracy: 0.9837\n",
      "Epoch 45/1000\n",
      "357/367 [============================>.] - ETA: 0s - loss: 0.0451 - accuracy: 0.9882\n",
      "Epoch 45: saving model to model/keypoint_classifier/keypoint_classifier.hdf5\n",
      "367/367 [==============================] - 2s 6ms/step - loss: 0.0454 - accuracy: 0.9882 - val_loss: 0.0674 - val_accuracy: 0.9831\n",
      "Epoch 46/1000\n",
      "362/367 [============================>.] - ETA: 0s - loss: 0.0442 - accuracy: 0.9888\n",
      "Epoch 46: saving model to model/keypoint_classifier/keypoint_classifier.hdf5\n",
      "367/367 [==============================] - 2s 6ms/step - loss: 0.0442 - accuracy: 0.9889 - val_loss: 0.0693 - val_accuracy: 0.9841\n",
      "Epoch 47/1000\n",
      "360/367 [============================>.] - ETA: 0s - loss: 0.0435 - accuracy: 0.9886\n",
      "Epoch 47: saving model to model/keypoint_classifier/keypoint_classifier.hdf5\n",
      "367/367 [==============================] - 2s 6ms/step - loss: 0.0436 - accuracy: 0.9886 - val_loss: 0.0681 - val_accuracy: 0.9840\n",
      "Epoch 48/1000\n",
      "360/367 [============================>.] - ETA: 0s - loss: 0.0426 - accuracy: 0.9890\n",
      "Epoch 48: saving model to model/keypoint_classifier/keypoint_classifier.hdf5\n",
      "367/367 [==============================] - 2s 6ms/step - loss: 0.0425 - accuracy: 0.9890 - val_loss: 0.0693 - val_accuracy: 0.9840\n",
      "Epoch 49/1000\n",
      "363/367 [============================>.] - ETA: 0s - loss: 0.0420 - accuracy: 0.9893\n",
      "Epoch 49: saving model to model/keypoint_classifier/keypoint_classifier.hdf5\n",
      "367/367 [==============================] - 2s 6ms/step - loss: 0.0422 - accuracy: 0.9893 - val_loss: 0.0679 - val_accuracy: 0.9839\n",
      "Epoch 50/1000\n",
      "366/367 [============================>.] - ETA: 0s - loss: 0.0416 - accuracy: 0.9891\n",
      "Epoch 50: saving model to model/keypoint_classifier/keypoint_classifier.hdf5\n",
      "367/367 [==============================] - 2s 6ms/step - loss: 0.0416 - accuracy: 0.9891 - val_loss: 0.0689 - val_accuracy: 0.9844\n",
      "Epoch 51/1000\n",
      "361/367 [============================>.] - ETA: 0s - loss: 0.0409 - accuracy: 0.9895\n",
      "Epoch 51: saving model to model/keypoint_classifier/keypoint_classifier.hdf5\n",
      "367/367 [==============================] - 2s 6ms/step - loss: 0.0409 - accuracy: 0.9896 - val_loss: 0.0681 - val_accuracy: 0.9835\n",
      "Epoch 52/1000\n",
      "358/367 [============================>.] - ETA: 0s - loss: 0.0396 - accuracy: 0.9901\n",
      "Epoch 52: saving model to model/keypoint_classifier/keypoint_classifier.hdf5\n",
      "367/367 [==============================] - 2s 6ms/step - loss: 0.0394 - accuracy: 0.9901 - val_loss: 0.0672 - val_accuracy: 0.9850\n",
      "Epoch 53/1000\n",
      "358/367 [============================>.] - ETA: 0s - loss: 0.0394 - accuracy: 0.9900\n",
      "Epoch 53: saving model to model/keypoint_classifier/keypoint_classifier.hdf5\n",
      "367/367 [==============================] - 2s 6ms/step - loss: 0.0395 - accuracy: 0.9900 - val_loss: 0.0670 - val_accuracy: 0.9838\n",
      "Epoch 54/1000\n",
      "361/367 [============================>.] - ETA: 0s - loss: 0.0390 - accuracy: 0.9903\n",
      "Epoch 54: saving model to model/keypoint_classifier/keypoint_classifier.hdf5\n",
      "367/367 [==============================] - 2s 6ms/step - loss: 0.0388 - accuracy: 0.9903 - val_loss: 0.0649 - val_accuracy: 0.9849\n"
     ]
    },
    {
     "name": "stdout",
     "output_type": "stream",
     "text": [
      "Epoch 55/1000\n",
      "363/367 [============================>.] - ETA: 0s - loss: 0.0380 - accuracy: 0.9899\n",
      "Epoch 55: saving model to model/keypoint_classifier/keypoint_classifier.hdf5\n",
      "367/367 [==============================] - 2s 6ms/step - loss: 0.0379 - accuracy: 0.9899 - val_loss: 0.0639 - val_accuracy: 0.9849\n",
      "Epoch 56/1000\n",
      "362/367 [============================>.] - ETA: 0s - loss: 0.0377 - accuracy: 0.9901\n",
      "Epoch 56: saving model to model/keypoint_classifier/keypoint_classifier.hdf5\n",
      "367/367 [==============================] - 2s 6ms/step - loss: 0.0376 - accuracy: 0.9901 - val_loss: 0.0651 - val_accuracy: 0.9840\n",
      "Epoch 57/1000\n",
      "365/367 [============================>.] - ETA: 0s - loss: 0.0365 - accuracy: 0.9905\n",
      "Epoch 57: saving model to model/keypoint_classifier/keypoint_classifier.hdf5\n",
      "367/367 [==============================] - 2s 6ms/step - loss: 0.0365 - accuracy: 0.9905 - val_loss: 0.0654 - val_accuracy: 0.9847\n",
      "Epoch 58/1000\n",
      "362/367 [============================>.] - ETA: 0s - loss: 0.0363 - accuracy: 0.9906\n",
      "Epoch 58: saving model to model/keypoint_classifier/keypoint_classifier.hdf5\n",
      "367/367 [==============================] - 2s 6ms/step - loss: 0.0364 - accuracy: 0.9905 - val_loss: 0.0654 - val_accuracy: 0.9845\n",
      "Epoch 59/1000\n",
      "362/367 [============================>.] - ETA: 0s - loss: 0.0360 - accuracy: 0.9907\n",
      "Epoch 59: saving model to model/keypoint_classifier/keypoint_classifier.hdf5\n",
      "367/367 [==============================] - 2s 6ms/step - loss: 0.0360 - accuracy: 0.9907 - val_loss: 0.0671 - val_accuracy: 0.9840\n",
      "Epoch 60/1000\n",
      "362/367 [============================>.] - ETA: 0s - loss: 0.0356 - accuracy: 0.9905\n",
      "Epoch 60: saving model to model/keypoint_classifier/keypoint_classifier.hdf5\n",
      "367/367 [==============================] - 2s 6ms/step - loss: 0.0358 - accuracy: 0.9904 - val_loss: 0.0632 - val_accuracy: 0.9847\n",
      "Epoch 61/1000\n",
      "363/367 [============================>.] - ETA: 0s - loss: 0.0345 - accuracy: 0.9908\n",
      "Epoch 61: saving model to model/keypoint_classifier/keypoint_classifier.hdf5\n",
      "367/367 [==============================] - 2s 6ms/step - loss: 0.0351 - accuracy: 0.9907 - val_loss: 0.0660 - val_accuracy: 0.9847\n",
      "Epoch 62/1000\n",
      "362/367 [============================>.] - ETA: 0s - loss: 0.0345 - accuracy: 0.9906\n",
      "Epoch 62: saving model to model/keypoint_classifier/keypoint_classifier.hdf5\n",
      "367/367 [==============================] - 2s 6ms/step - loss: 0.0344 - accuracy: 0.9906 - val_loss: 0.0630 - val_accuracy: 0.9861\n",
      "Epoch 63/1000\n",
      "361/367 [============================>.] - ETA: 0s - loss: 0.0337 - accuracy: 0.9912\n",
      "Epoch 63: saving model to model/keypoint_classifier/keypoint_classifier.hdf5\n",
      "367/367 [==============================] - 2s 6ms/step - loss: 0.0335 - accuracy: 0.9912 - val_loss: 0.0624 - val_accuracy: 0.9853\n",
      "Epoch 64/1000\n",
      "362/367 [============================>.] - ETA: 0s - loss: 0.0329 - accuracy: 0.9915\n",
      "Epoch 64: saving model to model/keypoint_classifier/keypoint_classifier.hdf5\n",
      "367/367 [==============================] - 2s 6ms/step - loss: 0.0329 - accuracy: 0.9915 - val_loss: 0.0622 - val_accuracy: 0.9852\n",
      "Epoch 65/1000\n",
      "362/367 [============================>.] - ETA: 0s - loss: 0.0331 - accuracy: 0.9914\n",
      "Epoch 65: saving model to model/keypoint_classifier/keypoint_classifier.hdf5\n",
      "367/367 [==============================] - 2s 6ms/step - loss: 0.0331 - accuracy: 0.9915 - val_loss: 0.0617 - val_accuracy: 0.9848\n",
      "Epoch 66/1000\n",
      "364/367 [============================>.] - ETA: 0s - loss: 0.0321 - accuracy: 0.9916\n",
      "Epoch 66: saving model to model/keypoint_classifier/keypoint_classifier.hdf5\n",
      "367/367 [==============================] - 2s 6ms/step - loss: 0.0320 - accuracy: 0.9917 - val_loss: 0.0635 - val_accuracy: 0.9848\n",
      "Epoch 67/1000\n",
      "363/367 [============================>.] - ETA: 0s - loss: 0.0314 - accuracy: 0.9917\n",
      "Epoch 67: saving model to model/keypoint_classifier/keypoint_classifier.hdf5\n",
      "367/367 [==============================] - 2s 6ms/step - loss: 0.0314 - accuracy: 0.9917 - val_loss: 0.0650 - val_accuracy: 0.9854\n",
      "Epoch 68/1000\n",
      "364/367 [============================>.] - ETA: 0s - loss: 0.0315 - accuracy: 0.9918\n",
      "Epoch 68: saving model to model/keypoint_classifier/keypoint_classifier.hdf5\n",
      "367/367 [==============================] - 2s 6ms/step - loss: 0.0316 - accuracy: 0.9918 - val_loss: 0.0644 - val_accuracy: 0.9849\n",
      "Epoch 69/1000\n",
      "364/367 [============================>.] - ETA: 0s - loss: 0.0315 - accuracy: 0.9915\n",
      "Epoch 69: saving model to model/keypoint_classifier/keypoint_classifier.hdf5\n",
      "367/367 [==============================] - 2s 6ms/step - loss: 0.0316 - accuracy: 0.9915 - val_loss: 0.0617 - val_accuracy: 0.9854\n",
      "Epoch 70/1000\n",
      "361/367 [============================>.] - ETA: 0s - loss: 0.0303 - accuracy: 0.9921\n",
      "Epoch 70: saving model to model/keypoint_classifier/keypoint_classifier.hdf5\n",
      "367/367 [==============================] - 2s 6ms/step - loss: 0.0303 - accuracy: 0.9921 - val_loss: 0.0634 - val_accuracy: 0.9851\n",
      "Epoch 71/1000\n",
      "363/367 [============================>.] - ETA: 0s - loss: 0.0296 - accuracy: 0.9923\n",
      "Epoch 71: saving model to model/keypoint_classifier/keypoint_classifier.hdf5\n",
      "367/367 [==============================] - 2s 6ms/step - loss: 0.0298 - accuracy: 0.9922 - val_loss: 0.0646 - val_accuracy: 0.9838\n",
      "Epoch 72/1000\n",
      "363/367 [============================>.] - ETA: 0s - loss: 0.0296 - accuracy: 0.9923\n",
      "Epoch 72: saving model to model/keypoint_classifier/keypoint_classifier.hdf5\n",
      "367/367 [==============================] - 2s 6ms/step - loss: 0.0294 - accuracy: 0.9923 - val_loss: 0.0620 - val_accuracy: 0.9847\n",
      "Epoch 73/1000\n",
      "362/367 [============================>.] - ETA: 0s - loss: 0.0296 - accuracy: 0.9919\n",
      "Epoch 73: saving model to model/keypoint_classifier/keypoint_classifier.hdf5\n",
      "367/367 [==============================] - 2s 6ms/step - loss: 0.0294 - accuracy: 0.9920 - val_loss: 0.0613 - val_accuracy: 0.9859\n",
      "Epoch 74/1000\n",
      "362/367 [============================>.] - ETA: 0s - loss: 0.0287 - accuracy: 0.9923\n",
      "Epoch 74: saving model to model/keypoint_classifier/keypoint_classifier.hdf5\n",
      "367/367 [==============================] - 2s 6ms/step - loss: 0.0289 - accuracy: 0.9923 - val_loss: 0.0646 - val_accuracy: 0.9859\n",
      "Epoch 75/1000\n",
      "365/367 [============================>.] - ETA: 0s - loss: 0.0288 - accuracy: 0.9924\n",
      "Epoch 75: saving model to model/keypoint_classifier/keypoint_classifier.hdf5\n",
      "367/367 [==============================] - 2s 6ms/step - loss: 0.0287 - accuracy: 0.9924 - val_loss: 0.0615 - val_accuracy: 0.9869\n",
      "Epoch 76/1000\n",
      "362/367 [============================>.] - ETA: 0s - loss: 0.0277 - accuracy: 0.9931\n",
      "Epoch 76: saving model to model/keypoint_classifier/keypoint_classifier.hdf5\n",
      "367/367 [==============================] - 2s 6ms/step - loss: 0.0277 - accuracy: 0.9931 - val_loss: 0.0637 - val_accuracy: 0.9860\n",
      "Epoch 77/1000\n",
      "364/367 [============================>.] - ETA: 0s - loss: 0.0283 - accuracy: 0.9924\n",
      "Epoch 77: saving model to model/keypoint_classifier/keypoint_classifier.hdf5\n",
      "367/367 [==============================] - 2s 6ms/step - loss: 0.0282 - accuracy: 0.9925 - val_loss: 0.0601 - val_accuracy: 0.9868\n",
      "Epoch 78/1000\n",
      "359/367 [============================>.] - ETA: 0s - loss: 0.0271 - accuracy: 0.9928\n",
      "Epoch 78: saving model to model/keypoint_classifier/keypoint_classifier.hdf5\n",
      "367/367 [==============================] - 2s 6ms/step - loss: 0.0271 - accuracy: 0.9928 - val_loss: 0.0616 - val_accuracy: 0.9857\n",
      "Epoch 79/1000\n",
      "363/367 [============================>.] - ETA: 0s - loss: 0.0268 - accuracy: 0.9927\n",
      "Epoch 79: saving model to model/keypoint_classifier/keypoint_classifier.hdf5\n",
      "367/367 [==============================] - 2s 6ms/step - loss: 0.0269 - accuracy: 0.9926 - val_loss: 0.0617 - val_accuracy: 0.9863\n",
      "Epoch 80/1000\n",
      "362/367 [============================>.] - ETA: 0s - loss: 0.0265 - accuracy: 0.9927\n",
      "Epoch 80: saving model to model/keypoint_classifier/keypoint_classifier.hdf5\n",
      "367/367 [==============================] - 2s 6ms/step - loss: 0.0268 - accuracy: 0.9927 - val_loss: 0.0623 - val_accuracy: 0.9865\n",
      "Epoch 81/1000\n",
      "358/367 [============================>.] - ETA: 0s - loss: 0.0268 - accuracy: 0.9927\n",
      "Epoch 81: saving model to model/keypoint_classifier/keypoint_classifier.hdf5\n",
      "367/367 [==============================] - 2s 6ms/step - loss: 0.0266 - accuracy: 0.9928 - val_loss: 0.0616 - val_accuracy: 0.9859\n"
     ]
    },
    {
     "name": "stdout",
     "output_type": "stream",
     "text": [
      "Epoch 82/1000\n",
      "363/367 [============================>.] - ETA: 0s - loss: 0.0264 - accuracy: 0.9929\n",
      "Epoch 82: saving model to model/keypoint_classifier/keypoint_classifier.hdf5\n",
      "367/367 [==============================] - 2s 6ms/step - loss: 0.0263 - accuracy: 0.9929 - val_loss: 0.0609 - val_accuracy: 0.9871\n",
      "Epoch 83/1000\n",
      "360/367 [============================>.] - ETA: 0s - loss: 0.0253 - accuracy: 0.9932\n",
      "Epoch 83: saving model to model/keypoint_classifier/keypoint_classifier.hdf5\n",
      "367/367 [==============================] - 2s 6ms/step - loss: 0.0252 - accuracy: 0.9932 - val_loss: 0.0604 - val_accuracy: 0.9869\n",
      "Epoch 84/1000\n",
      "363/367 [============================>.] - ETA: 0s - loss: 0.0257 - accuracy: 0.9927\n",
      "Epoch 84: saving model to model/keypoint_classifier/keypoint_classifier.hdf5\n",
      "367/367 [==============================] - 2s 6ms/step - loss: 0.0258 - accuracy: 0.9927 - val_loss: 0.0624 - val_accuracy: 0.9861\n",
      "Epoch 85/1000\n",
      "363/367 [============================>.] - ETA: 0s - loss: 0.0249 - accuracy: 0.9932\n",
      "Epoch 85: saving model to model/keypoint_classifier/keypoint_classifier.hdf5\n",
      "367/367 [==============================] - 2s 6ms/step - loss: 0.0250 - accuracy: 0.9931 - val_loss: 0.0620 - val_accuracy: 0.9866\n",
      "Epoch 86/1000\n",
      "358/367 [============================>.] - ETA: 0s - loss: 0.0243 - accuracy: 0.9935\n",
      "Epoch 86: saving model to model/keypoint_classifier/keypoint_classifier.hdf5\n",
      "367/367 [==============================] - 2s 6ms/step - loss: 0.0244 - accuracy: 0.9935 - val_loss: 0.0611 - val_accuracy: 0.9870\n",
      "Epoch 87/1000\n",
      "361/367 [============================>.] - ETA: 0s - loss: 0.0242 - accuracy: 0.9936\n",
      "Epoch 87: saving model to model/keypoint_classifier/keypoint_classifier.hdf5\n",
      "367/367 [==============================] - 2s 6ms/step - loss: 0.0243 - accuracy: 0.9935 - val_loss: 0.0626 - val_accuracy: 0.9868\n",
      "Epoch 88/1000\n",
      "361/367 [============================>.] - ETA: 0s - loss: 0.0246 - accuracy: 0.9930\n",
      "Epoch 88: saving model to model/keypoint_classifier/keypoint_classifier.hdf5\n",
      "367/367 [==============================] - 2s 6ms/step - loss: 0.0246 - accuracy: 0.9930 - val_loss: 0.0623 - val_accuracy: 0.9856\n",
      "Epoch 89/1000\n",
      "362/367 [============================>.] - ETA: 0s - loss: 0.0239 - accuracy: 0.9937\n",
      "Epoch 89: saving model to model/keypoint_classifier/keypoint_classifier.hdf5\n",
      "367/367 [==============================] - 2s 6ms/step - loss: 0.0240 - accuracy: 0.9936 - val_loss: 0.0628 - val_accuracy: 0.9865\n",
      "Epoch 90/1000\n",
      "361/367 [============================>.] - ETA: 0s - loss: 0.0240 - accuracy: 0.9933\n",
      "Epoch 90: saving model to model/keypoint_classifier/keypoint_classifier.hdf5\n",
      "367/367 [==============================] - 2s 6ms/step - loss: 0.0240 - accuracy: 0.9933 - val_loss: 0.0644 - val_accuracy: 0.9866\n",
      "Epoch 91/1000\n",
      "362/367 [============================>.] - ETA: 0s - loss: 0.0230 - accuracy: 0.9939\n",
      "Epoch 91: saving model to model/keypoint_classifier/keypoint_classifier.hdf5\n",
      "367/367 [==============================] - 2s 6ms/step - loss: 0.0231 - accuracy: 0.9938 - val_loss: 0.0634 - val_accuracy: 0.9862\n",
      "Epoch 92/1000\n",
      "362/367 [============================>.] - ETA: 0s - loss: 0.0228 - accuracy: 0.9938\n",
      "Epoch 92: saving model to model/keypoint_classifier/keypoint_classifier.hdf5\n",
      "367/367 [==============================] - 2s 6ms/step - loss: 0.0228 - accuracy: 0.9938 - val_loss: 0.0625 - val_accuracy: 0.9862\n",
      "Epoch 93/1000\n",
      "357/367 [============================>.] - ETA: 0s - loss: 0.0231 - accuracy: 0.9938\n",
      "Epoch 93: saving model to model/keypoint_classifier/keypoint_classifier.hdf5\n",
      "367/367 [==============================] - 2s 6ms/step - loss: 0.0230 - accuracy: 0.9938 - val_loss: 0.0638 - val_accuracy: 0.9862\n",
      "Epoch 94/1000\n",
      "362/367 [============================>.] - ETA: 0s - loss: 0.0221 - accuracy: 0.9942\n",
      "Epoch 94: saving model to model/keypoint_classifier/keypoint_classifier.hdf5\n",
      "367/367 [==============================] - 2s 6ms/step - loss: 0.0221 - accuracy: 0.9942 - val_loss: 0.0646 - val_accuracy: 0.9854\n",
      "Epoch 95/1000\n",
      "363/367 [============================>.] - ETA: 0s - loss: 0.0223 - accuracy: 0.9937\n",
      "Epoch 95: saving model to model/keypoint_classifier/keypoint_classifier.hdf5\n",
      "367/367 [==============================] - 2s 6ms/step - loss: 0.0223 - accuracy: 0.9937 - val_loss: 0.0627 - val_accuracy: 0.9864\n",
      "Epoch 96/1000\n",
      "359/367 [============================>.] - ETA: 0s - loss: 0.0216 - accuracy: 0.9944\n",
      "Epoch 96: saving model to model/keypoint_classifier/keypoint_classifier.hdf5\n",
      "367/367 [==============================] - 2s 6ms/step - loss: 0.0216 - accuracy: 0.9944 - val_loss: 0.0628 - val_accuracy: 0.9866\n",
      "Epoch 97/1000\n",
      "358/367 [============================>.] - ETA: 0s - loss: 0.0217 - accuracy: 0.9941\n",
      "Epoch 97: saving model to model/keypoint_classifier/keypoint_classifier.hdf5\n",
      "367/367 [==============================] - 2s 6ms/step - loss: 0.0219 - accuracy: 0.9941 - val_loss: 0.0616 - val_accuracy: 0.9871\n",
      "Epoch 97: early stopping\n"
     ]
    },
    {
     "data": {
      "text/plain": [
       "<keras.callbacks.History at 0x28668a910>"
      ]
     },
     "execution_count": 40,
     "metadata": {},
     "output_type": "execute_result"
    }
   ],
   "source": [
    "model.fit(\n",
    "    X_train,\n",
    "    y_train,\n",
    "    epochs=1000,\n",
    "    batch_size=128,\n",
    "    validation_data=(X_test, y_test),\n",
    "    callbacks=[cp_callback, es_callback]\n",
    ")"
   ]
  },
  {
   "cell_type": "code",
   "execution_count": 51,
   "id": "f6f2d2ae",
   "metadata": {},
   "outputs": [
    {
     "name": "stdout",
     "output_type": "stream",
     "text": [
      "123/123 [==============================] - 0s 4ms/step - loss: 0.0616 - accuracy: 0.9871\n"
     ]
    }
   ],
   "source": [
    "#model evaluation\n",
    "val_loss, val_acc = model.evaluate(X_test, y_test, batch_size=128)"
   ]
  },
  {
   "cell_type": "code",
   "execution_count": 42,
   "id": "52dda971",
   "metadata": {},
   "outputs": [
    {
     "data": {
      "image/png": "[encoded data removed]",
      "text/plain": [
       "<Figure size 504x432 with 2 Axes>"
      ]
     },
     "metadata": {
      "needs_background": "light"
     },
     "output_type": "display_data"
    },
    {
     "name": "stdout",
     "output_type": "stream",
     "text": [
      "Classification Report\n",
      "              precision    recall  f1-score   support\n",
      "\n",
      "           0       0.99      0.98      0.99       580\n",
      "           1       0.99      1.00      1.00       540\n",
      "           2       0.99      0.99      0.99       549\n",
      "           3       0.98      0.99      0.99       636\n",
      "           4       0.99      0.99      0.99       568\n",
      "           5       1.00      0.99      0.99       756\n",
      "           6       1.00      1.00      1.00       622\n",
      "           7       0.99      0.99      0.99       595\n",
      "           8       0.98      0.99      0.98       601\n",
      "           9       0.99      0.97      0.98       651\n",
      "          10       0.99      1.00      0.99       671\n",
      "          11       1.00      1.00      1.00       644\n",
      "          12       0.90      0.96      0.93       426\n",
      "          13       0.96      0.91      0.93       385\n",
      "          14       0.98      0.99      0.98       561\n",
      "          15       1.00      0.99      0.99       518\n",
      "          16       0.99      1.00      0.99       565\n",
      "          17       0.99      0.98      0.98       684\n",
      "          18       0.98      0.99      0.99       660\n",
      "          19       0.98      1.00      0.99       575\n",
      "          20       0.99      0.98      0.98       662\n",
      "          21       0.99      1.00      0.99       626\n",
      "          22       0.99      0.99      0.99       678\n",
      "          23       0.98      0.98      0.98       543\n",
      "          24       1.00      0.99      1.00       729\n",
      "          25       0.99      0.99      0.99       621\n",
      "\n",
      "    accuracy                           0.99     15646\n",
      "   macro avg       0.99      0.99      0.99     15646\n",
      "weighted avg       0.99      0.99      0.99     15646\n",
      "\n"
     ]
    }
   ],
   "source": [
    "import pandas as pd\n",
    "import seaborn as sns\n",
    "import matplotlib.pyplot as plt\n",
    "from sklearn.metrics import confusion_matrix, classification_report\n",
    "\n",
    "def print_confusion_matrix(y_true, y_pred, report=True):\n",
    "    labels = sorted(list(set(y_true)))\n",
    "    cmx_data = confusion_matrix(y_true, y_pred, labels=labels)\n",
    "    \n",
    "    df_cmx = pd.DataFrame(cmx_data, index=labels, columns=labels)\n",
    " \n",
    "    fig, ax = plt.subplots(figsize=(7, 6))\n",
    "    sns.heatmap(df_cmx, annot=True, fmt='g' ,square=False)\n",
    "    ax.set_ylim(len(set(y_true)), 0)\n",
    "    plt.show()\n",
    "    \n",
    "    if report:\n",
    "        print('Classification Report')\n",
    "        print(classification_report(y_test, y_pred))\n",
    "\n",
    "Y_pred = model.predict(X_test)\n",
    "y_pred = np.argmax(Y_pred, axis=1)\n",
    "\n",
    "print_confusion_matrix(y_test, y_pred)"
   ]
  },
  {
   "cell_type": "code",
   "execution_count": 43,
   "id": "4f15c735",
   "metadata": {},
   "outputs": [],
   "source": [
    "model.save(model_save_path, include_optimizer=False)"
   ]
  },
  {
   "cell_type": "code",
   "execution_count": 44,
   "id": "fdfb0f54",
   "metadata": {},
   "outputs": [
    {
     "name": "stdout",
     "output_type": "stream",
     "text": [
      "INFO:tensorflow:Assets written to: /var/folders/yd/2gs60p_n1yn31qchnyl965sr0000gn/T/tmpxzpcfz6q/assets\n"
     ]
    },
    {
     "name": "stderr",
     "output_type": "stream",
     "text": [
      "INFO:tensorflow:Assets written to: /var/folders/yd/2gs60p_n1yn31qchnyl965sr0000gn/T/tmpxzpcfz6q/assets\n",
      "2022-06-04 23:35:06.619054: W tensorflow/compiler/mlir/lite/python/tf_tfl_flatbuffer_helpers.cc:357] Ignored output_format.\n",
      "2022-06-04 23:35:06.619071: W tensorflow/compiler/mlir/lite/python/tf_tfl_flatbuffer_helpers.cc:360] Ignored drop_control_dependency.\n",
      "WARNING:absl:Buffer deduplication procedure will be skipped when flatbuffer library is not properly loaded\n",
      "2022-06-04 23:35:06.619156: I tensorflow/cc/saved_model/reader.cc:43] Reading SavedModel from: /var/folders/yd/2gs60p_n1yn31qchnyl965sr0000gn/T/tmpxzpcfz6q\n",
      "2022-06-04 23:35:06.619873: I tensorflow/cc/saved_model/reader.cc:78] Reading meta graph with tags { serve }\n",
      "2022-06-04 23:35:06.619879: I tensorflow/cc/saved_model/reader.cc:119] Reading SavedModel debug info (if present) from: /var/folders/yd/2gs60p_n1yn31qchnyl965sr0000gn/T/tmpxzpcfz6q\n",
      "2022-06-04 23:35:06.621677: I tensorflow/cc/saved_model/loader.cc:228] Restoring SavedModel bundle.\n",
      "2022-06-04 23:35:06.640149: I tensorflow/cc/saved_model/loader.cc:212] Running initialization op on SavedModel bundle at path: /var/folders/yd/2gs60p_n1yn31qchnyl965sr0000gn/T/tmpxzpcfz6q\n",
      "2022-06-04 23:35:06.645893: I tensorflow/cc/saved_model/loader.cc:301] SavedModel load for tags { serve }; Status: success: OK. Took 26734 microseconds.\n"
     ]
    },
    {
     "data": {
      "text/plain": [
       "7168"
      ]
     },
     "execution_count": 44,
     "metadata": {},
     "output_type": "execute_result"
    }
   ],
   "source": [
    "tflite_save_path = 'model/keypoint_classifier/keypoint_classifier.tflite'\n",
    "\n",
    "# original!!-----------------------------\n",
    "converter = tf.lite.TFLiteConverter.from_keras_model(model)\n",
    "converter.optimizations = [tf.lite.Optimize.DEFAULT]\n",
    "converter.target_spec.supported_ops=[\n",
    "  tf.lite.OpsSet.TFLITE_BUILTINS,\n",
    "  tf.lite.OpsSet.SELECT_TF_OPS,\n",
    "]\n",
    "tflite_quantized_model = converter.convert()\n",
    "\n",
    "\n",
    "open(tflite_save_path, 'wb').write(tflite_quantized_model)"
   ]
  },
  {
   "cell_type": "code",
   "execution_count": 45,
   "id": "7ec2b6f3",
   "metadata": {},
   "outputs": [],
   "source": [
    "# inference test"
   ]
  },
  {
   "cell_type": "code",
   "execution_count": 46,
   "id": "1dd5c3ee",
   "metadata": {},
   "outputs": [],
   "source": [
    "interpreter = tf.lite.Interpreter(model_path=tflite_save_path)\n",
    "interpreter.allocate_tensors()"
   ]
  },
  {
   "cell_type": "code",
   "execution_count": 47,
   "id": "5e5b3dac",
   "metadata": {},
   "outputs": [],
   "source": [
    "input_details = interpreter.get_input_details()\n",
    "output_details = interpreter.get_output_details()"
   ]
  },
  {
   "cell_type": "code",
   "execution_count": 48,
   "id": "fefab7ba",
   "metadata": {},
   "outputs": [],
   "source": [
    "interpreter.set_tensor(input_details[0]['index'], np.array([X_test[0]]))"
   ]
  },
  {
   "cell_type": "code",
   "execution_count": 49,
   "id": "e2eb3854",
   "metadata": {},
   "outputs": [
    {
     "name": "stdout",
     "output_type": "stream",
     "text": [
      "CPU times: user 431 µs, sys: 136 µs, total: 567 µs\n",
      "Wall time: 506 µs\n"
     ]
    }
   ],
   "source": [
    "%%time\n",
    "interpreter.invoke()\n",
    "tflite_results = interpreter.get_tensor(output_details[0]['index'])"
   ]
  },
  {
   "cell_type": "code",
   "execution_count": 50,
   "id": "1eea80ac",
   "metadata": {},
   "outputs": [
    {
     "name": "stdout",
     "output_type": "stream",
     "text": [
      "[9.8829744e-10 2.9378937e-39 1.4505961e-37 2.8447976e-18 1.0279785e-09\n",
      " 1.6353864e-35 1.0268547e-14 8.8573071e-16 1.0176630e-06 2.1864049e-07\n",
      " 1.8691374e-21 1.2260328e-24 2.1978140e-08 4.0495084e-07 1.7941504e-18\n",
      " 3.3857463e-13 1.1370506e-35 1.1735120e-19 9.9987352e-01 1.2390397e-04\n",
      " 3.9601941e-14 1.2960755e-24 2.7603544e-19 1.6940486e-07 9.3749776e-15\n",
      " 6.6180115e-07]\n",
      "18\n"
     ]
    }
   ],
   "source": [
    "print(np.squeeze(tflite_results))\n",
    "print(np.argmax(np.squeeze(tflite_results)))"
   ]
  },
  {
   "cell_type": "code",
   "execution_count": null,
   "id": "c2284592",
   "metadata": {},
   "outputs": [],
   "source": []
  }
 ],
 "metadata": {
  "interpreter": {
   "hash": "25240f480d8e474bd478277fa6d587f4c75034d5be5621297ef499a0fe9069d3"
  },
  "kernelspec": {
   "display_name": "Python 3 (ipykernel)",
   "language": "python",
   "name": "python3"
  },
  "language_info": {
   "codemirror_mode": {
    "name": "ipython",
    "version": 3
   },
   "file_extension": ".py",
   "mimetype": "text/x-python",
   "name": "python",
   "nbconvert_exporter": "python",
   "pygments_lexer": "ipython3",
   "version": "3.9.12"
  }
 },
 "nbformat": 4,
 "nbformat_minor": 5
}
